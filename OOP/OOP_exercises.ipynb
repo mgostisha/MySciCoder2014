{
 "metadata": {
  "name": "",
  "signature": "sha256:d5c47aff83095ad7146349f913758550d30b8e29d61fb0e58d98cbbd3176ccd0"
 },
 "nbformat": 3,
 "nbformat_minor": 0,
 "worksheets": [
  {
   "cells": [
    {
     "cell_type": "markdown",
     "metadata": {},
     "source": [
      "__1.1)__ Create a class to represent a 2D point in space. The initializer should accept 2 inputs -- an `x` and a `y` coordinate -- and store those values as attributes of the object."
     ]
    },
    {
     "cell_type": "code",
     "collapsed": false,
     "input": [
      "class Point(object):\n",
      "    def __init__(x, y):\n",
      "        self.x = x\n",
      "        self.y = y"
     ],
     "language": "python",
     "metadata": {},
     "outputs": []
    },
    {
     "cell_type": "markdown",
     "metadata": {},
     "source": [
      "__1.2)__ Add a method of the class called `distance_to()` that accepts another point object, and returns the Euclidean distance between the two points. Add a check to this method to make sure `point2` is a `Point2D` object."
     ]
    },
    {
     "cell_type": "code",
     "collapsed": false,
     "input": [],
     "language": "python",
     "metadata": {},
     "outputs": []
    },
    {
     "cell_type": "code",
     "collapsed": false,
     "input": [],
     "language": "python",
     "metadata": {},
     "outputs": []
    },
    {
     "cell_type": "markdown",
     "metadata": {},
     "source": [
      "__1.3)__ Generalize the class so it can handle an arbitrary number of dimensions. _hint: you can use `*args` to accept a variable number of arguments_"
     ]
    },
    {
     "cell_type": "code",
     "collapsed": false,
     "input": [],
     "language": "python",
     "metadata": {},
     "outputs": []
    },
    {
     "cell_type": "code",
     "collapsed": false,
     "input": [],
     "language": "python",
     "metadata": {},
     "outputs": []
    },
    {
     "cell_type": "code",
     "collapsed": false,
     "input": [],
     "language": "python",
     "metadata": {},
     "outputs": []
    },
    {
     "cell_type": "markdown",
     "metadata": {},
     "source": [
      "__2)__ Write a `Person` class and an `AddressBook` class. You should be able to add and remove people from the address book by passing in `Person` objects. If you search for a phone number, or persons name, it should return their address."
     ]
    },
    {
     "cell_type": "code",
     "collapsed": false,
     "input": [],
     "language": "python",
     "metadata": {},
     "outputs": []
    },
    {
     "cell_type": "markdown",
     "metadata": {},
     "source": [
      "__3)__ Write a class to represent a vending machine. Keep track of the prices of each item, and how much money has been put in to the machine. The following code should work when you're done:\n",
      "\n",
      "    vm = VendingMachine()\n",
      "    vm.restock(\"water\", quantity=5, price=1.50)\n",
      "    vm.restock(\"iced tea\", quantity=10, price=2.50)\n",
      "    vm.restock(\"soda\", quantity=12, price=2.00)\n",
      "    \n",
      "    vm.vend(\"water\", 1.50)\n",
      "    print(vm.stock(\"water\")) # how many waters are left\n",
      "    \n",
      "    vm.vend(\"water\", 1.25) # should fail, and return the money to the user\n",
      "    vm.vend(\"water\", 1.75) # should work, and return 0.25 to the user\n",
      "    \n",
      "If the machine is out of a product, it should display a friendly message and fail to vend."
     ]
    },
    {
     "cell_type": "code",
     "collapsed": false,
     "input": [
      "class VendingMachine(object):\n",
      "    \n",
      "    def __init__(self):\n",
      "        self.VMstock = {}\n",
      "    \n",
      "    def restock(self, Snack):\n",
      "        if Snack.name in self.VMstock.keys():\n",
      "            self.VMstock[Snack.name][0] += Snack.quantity\n",
      "            self.VMstock[Snack.name][1] = Snack.price\n",
      "        else:\n",
      "            self.VMstock[Snack.name] = [Snack.quantity, Snack.price]\n",
      "    \n",
      "    def vend(self, item, payment):\n",
      "        if item in self.VMstock.keys():\n",
      "            change = payment - self.VMstock[item][1]\n",
      "            if change < 0:\n",
      "                print 'Sorry, your payment is ${0} short! Here is your money back.'.format(-1*change)\n",
      "                print 'Change: ${0}\\n'.format(payment)       \n",
      "            elif self.VMstock[item][0] <= 0:\n",
      "                print \"Sorry, we're out of {0}! Here's your money back.\".format(item)\n",
      "                print \"Change: ${0}.\\n\".format(payment)\n",
      "            else:\n",
      "                print 'Thank you for your purchase! Enjoy your {0}.'.format(item)\n",
      "                print 'Your change is: ${0}\\n'.format(change)\n",
      "                self.VMstock[item][0] -= 1\n",
      "        else:\n",
      "            print \"Sorry, we don't carry {0} in this machine. Here's your money back.\".format(item)\n",
      "            print \"Change: ${0}\\n\".format(payment)\n",
      "            \n",
      "    def inventory(self):\n",
      "        print 'The current machine inventory is:'\n",
      "        for key in self.VMstock.keys():\n",
      "            print '{0}: {1} @ ${2}'.format(key, self.VMstock[key][0], self.VMstock[key][1])\n",
      "        print '\\n'\n",
      "    \n",
      "class Snack(object):\n",
      "    \n",
      "    def __init__(self, name, price, quantity):\n",
      "        self.name = name\n",
      "        self.price = price\n",
      "        self.quantity = quantity"
     ],
     "language": "python",
     "metadata": {},
     "outputs": [],
     "prompt_number": 72
    },
    {
     "cell_type": "code",
     "collapsed": false,
     "input": [
      "water = Snack('water', 1.50, 5)\n",
      "icedtea = Snack('iced tea', 2.50, 10)\n",
      "soda = Snack('soda', 2.00, 12)\n",
      "\n",
      "vm = VendingMachine()"
     ],
     "language": "python",
     "metadata": {},
     "outputs": [],
     "prompt_number": 73
    },
    {
     "cell_type": "code",
     "collapsed": false,
     "input": [
      "vm.restock(water)\n",
      "vm.restock(icedtea)\n",
      "vm.restock(soda)\n",
      "\n",
      "vm.inventory()"
     ],
     "language": "python",
     "metadata": {},
     "outputs": [
      {
       "output_type": "stream",
       "stream": "stdout",
       "text": [
        "The current machine inventory is:\n",
        "water: 5 @ $1.5\n",
        "iced tea: 10 @ $2.5\n",
        "soda: 12 @ $2.0\n",
        "\n",
        "\n"
       ]
      }
     ],
     "prompt_number": 74
    },
    {
     "cell_type": "code",
     "collapsed": false,
     "input": [
      "vm.vend('water', 1.25)\n",
      "vm.vend('water', 1.50)\n",
      "vm.vend('water', 1.75)\n",
      "vm.vend('coffee', 3.00)"
     ],
     "language": "python",
     "metadata": {},
     "outputs": [
      {
       "output_type": "stream",
       "stream": "stdout",
       "text": [
        "Sorry, your payment is $0.25 short! Here is your money back.\n",
        "Change: $1.25\n",
        "\n",
        "Thank you for your purchase! Enjoy your water.\n",
        "Your change is: $0.0\n",
        "\n",
        "Thank you for your purchase! Enjoy your water.\n",
        "Your change is: $0.25\n",
        "\n",
        "Sorry, we don't carry coffee in this machine. Here's your money back.\n",
        "Change: $3.0\n",
        "\n"
       ]
      }
     ],
     "prompt_number": 75
    },
    {
     "cell_type": "code",
     "collapsed": false,
     "input": [
      "vm.inventory()"
     ],
     "language": "python",
     "metadata": {},
     "outputs": [
      {
       "output_type": "stream",
       "stream": "stdout",
       "text": [
        "The current machine inventory is:\n",
        "water: 3 @ $1.5\n",
        "iced tea: 10 @ $2.5\n",
        "soda: 12 @ $2.0\n",
        "\n",
        "\n"
       ]
      }
     ],
     "prompt_number": 76
    },
    {
     "cell_type": "code",
     "collapsed": false,
     "input": [],
     "language": "python",
     "metadata": {},
     "outputs": []
    }
   ],
   "metadata": {}
  }
 ]
}